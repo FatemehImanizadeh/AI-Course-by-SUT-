{
  "nbformat": 4,
  "nbformat_minor": 0,
  "metadata": {
    "colab": {
      "provenance": [],
      "authorship_tag": "ABX9TyOsaxokPp0eYNhy87pzZHBs",
      "include_colab_link": true
    },
    "kernelspec": {
      "name": "python3",
      "display_name": "Python 3"
    },
    "language_info": {
      "name": "python"
    }
  },
  "cells": [
    {
      "cell_type": "markdown",
      "metadata": {
        "id": "view-in-github",
        "colab_type": "text"
      },
      "source": [
        "<a href=\"https://colab.research.google.com/github/FatemehImanizadeh/AI-Course-by-SUT-/blob/main/Gradient_Descent.ipynb\" target=\"_parent\"><img src=\"https://colab.research.google.com/assets/colab-badge.svg\" alt=\"Open In Colab\"/></a>"
      ]
    },
    {
      "cell_type": "markdown",
      "source": [
        "# Gradiant Descent\n",
        "**Cost Function**"
      ],
      "metadata": {
        "id": "kal-NV_ipYeR"
      }
    },
    {
      "cell_type": "code",
      "source": [
        "import numpy as np\n",
        "import matplotlib.pyplot as plt\n",
        "from sklearn.model_selection import train_test_split\n",
        "from sklearn.datasets import make_regression\n"
      ],
      "metadata": {
        "id": "V2JVRwVDpk-l"
      },
      "execution_count": null,
      "outputs": []
    },
    {
      "cell_type": "code",
      "source": [
        "def h_w(X, W):\n",
        "    return np.dot(X, W)"
      ],
      "metadata": {
        "id": "EFPrwZnstLq9"
      },
      "execution_count": null,
      "outputs": []
    },
    {
      "cell_type": "code",
      "source": [
        "def cost_func(X, y, W):\n",
        "  cost = np.mean((y - h_w(X, W))**2)\n",
        "  return cost"
      ],
      "metadata": {
        "id": "vdip3N2rtClx"
      },
      "execution_count": null,
      "outputs": []
    },
    {
      "cell_type": "code",
      "source": [
        "def gradient_descent(X, y, W, alpha, epochs):\n",
        "  n = len(X)\n",
        "  cost_history = np.zeros(epochs)\n",
        "  w_history = np.zeros((epochs, 2))\n",
        "  for i in range(epochs):\n",
        "    y_pred = h_w(X, W)\n",
        "    cost = cost_func(X, y, W)\n",
        "    grad_W0 = (1/n) * np.sum(y_pred - y)\n",
        "    grad_W1 = (1/n) * np.sum((y_pred - y) * X[:, 1])\n",
        "    W[0] -= alpha * grad_W0\n",
        "    W[1] -= alpha * grad_W1\n",
        "    cost_history[i] = cost\n",
        "    w_history[i] = W.copy()\n",
        "  return W, cost_history, w_history"
      ],
      "metadata": {
        "id": "B5Nil0BKthsN"
      },
      "execution_count": 1,
      "outputs": []
    },
    {
      "cell_type": "code",
      "source": [],
      "metadata": {
        "id": "jfV65MAAxs4G"
      },
      "execution_count": null,
      "outputs": []
    }
  ]
}