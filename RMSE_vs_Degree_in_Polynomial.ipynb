{
  "nbformat": 4,
  "nbformat_minor": 0,
  "metadata": {
    "colab": {
      "provenance": [],
      "authorship_tag": "ABX9TyNYhFw46RqmRlQ44OyYJT0P",
      "include_colab_link": true
    },
    "kernelspec": {
      "name": "python3",
      "display_name": "Python 3"
    },
    "language_info": {
      "name": "python"
    }
  },
  "cells": [
    {
      "cell_type": "markdown",
      "metadata": {
        "id": "view-in-github",
        "colab_type": "text"
      },
      "source": [
        "<a href=\"https://colab.research.google.com/github/FatemehImanizadeh/AI-Course-by-SUT-/blob/main/RMSE_vs_Degree_in_Polynomial.ipynb\" target=\"_parent\"><img src=\"https://colab.research.google.com/assets/colab-badge.svg\" alt=\"Open In Colab\"/></a>"
      ]
    },
    {
      "cell_type": "markdown",
      "source": [
        "# RMSE\n",
        "**Calculate error**"
      ],
      "metadata": {
        "id": "TvCP4z-4gdzI"
      }
    },
    {
      "cell_type": "code",
      "execution_count": null,
      "metadata": {
        "id": "AbH77gxhgLVu"
      },
      "outputs": [],
      "source": [
        "def calculate_rmse (y_real, y_train):\n",
        "    mse = ((y_real - y_train)**2).mean()\n",
        "    rmse = np.sqrt(mse)\n",
        "    return rmse"
      ]
    },
    {
      "cell_type": "code",
      "source": [],
      "metadata": {
        "id": "h3Qvp6J_g7S3"
      },
      "execution_count": null,
      "outputs": []
    }
  ]
}